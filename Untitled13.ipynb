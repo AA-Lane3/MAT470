{
 "cells": [
  {
   "cell_type": "code",
   "execution_count": 3,
   "id": "dfae5798-8cf8-4795-a5b5-c9b1e64e4147",
   "metadata": {},
   "outputs": [],
   "source": [
    "def encrypt(letter, key):\n",
    "\n",
    "    # must be single alphabetic character\n",
    "    if not letter.isalpha() or len(letter) != 1:\n",
    "        return letter\n",
    "\n",
    "    # convert to lowercase\n",
    "    letter = letter.lower()\n",
    "\n",
    "    # convert to numerical value 0 - 25\n",
    "    # a = 0, b = 1, ... z = 25\n",
    "    value = ord(letter) - 97\n",
    "\n",
    "    # apply key, number of characters to shift\n",
    "    value = (value + key) % 26\n",
    "\n",
    "    # return encrypted letter\n",
    "    return chr(value + 97)"
   ]
  },
  {
   "cell_type": "code",
   "execution_count": 23,
   "id": "01714873-35a6-4270-bead-0eaf9e2ccc08",
   "metadata": {},
   "outputs": [],
   "source": [
    "def decrypt(letter, key):\n",
    "\n",
    "    # must be single alphabetic character\n",
    "    if not letter.isalpha() or len(letter) != 1:\n",
    "        return letter\n",
    "\n",
    "    # convert to lowercase\n",
    "    letter = letter.lower()\n",
    "\n",
    "    # convert to numerical value 0 - 25\n",
    "    # a = 0, b = 1, ... z = 25\n",
    "    value = ord(letter) - 97\n",
    "\n",
    "    # apply key, number of characters to shift\n",
    "    value = (value - key) % 26\n",
    "\n",
    "    # return encrypted letter\n",
    "    return chr(value + 97)\n"
   ]
  },
  {
   "cell_type": "code",
   "execution_count": null,
   "id": "cea4ba9c-1f93-4339-9703-9d4541d9af3d",
   "metadata": {},
   "outputs": [],
   "source": [
    "key = int(input('Enter the secret key: '))"
   ]
  },
  {
   "cell_type": "code",
   "execution_count": 58,
   "id": "905adb91-be92-48fd-8170-10ffa0013f3e",
   "metadata": {},
   "outputs": [
    {
     "name": "stdin",
     "output_type": "stream",
     "text": [
      "Enter the plaintext message:  Hi\n"
     ]
    },
    {
     "name": "stdout",
     "output_type": "stream",
     "text": [
      "kl\n"
     ]
    }
   ],
   "source": [
    "plaintext = input('Enter the plaintext message: ')\n",
    "\n",
    "ciphertext = ''\n",
    "for letter in plaintext:\n",
    "    ciphertext += encrypt(letter, key)\n",
    "print(ciphertext)\n"
   ]
  },
  {
   "cell_type": "code",
   "execution_count": 59,
   "id": "dd6e2e6f-a22d-42b4-8211-60161d6f0bdc",
   "metadata": {},
   "outputs": [
    {
     "name": "stdout",
     "output_type": "stream",
     "text": [
      "hi\n"
     ]
    }
   ],
   "source": [
    "plaintext2 = ''\n",
    "for letter in ciphertext:\n",
    "    plaintext2 += decrypt(letter, key)\n",
    "print(plaintext2)\n",
    "  "
   ]
  },
  {
   "cell_type": "code",
   "execution_count": 60,
   "id": "7ca0fb19-26e4-4d8e-8b90-00dd62140ac4",
   "metadata": {},
   "outputs": [
    {
     "name": "stdout",
     "output_type": "stream",
     "text": [
      "kl when the key is 0\n",
      "jk when the key is 1\n",
      "ij when the key is 2\n",
      "hi when the key is 3\n",
      "gh when the key is 4\n",
      "fg when the key is 5\n",
      "ef when the key is 6\n",
      "de when the key is 7\n",
      "cd when the key is 8\n",
      "bc when the key is 9\n",
      "ab when the key is 10\n",
      "za when the key is 11\n",
      "yz when the key is 12\n",
      "xy when the key is 13\n",
      "wx when the key is 14\n",
      "vw when the key is 15\n",
      "uv when the key is 16\n",
      "tu when the key is 17\n",
      "st when the key is 18\n",
      "rs when the key is 19\n",
      "qr when the key is 20\n",
      "pq when the key is 21\n",
      "op when the key is 22\n",
      "no when the key is 23\n",
      "mn when the key is 24\n",
      "lm when the key is 25\n"
     ]
    }
   ],
   "source": [
    "key=0\n",
    "while key<=25:\n",
    "    plaintext2 = ''\n",
    "    for letter in ciphertext:\n",
    "        plaintext2 += decrypt(letter, key)\n",
    "    print(plaintext2,\"when the key is\",key)\n",
    "    key=key+1 "
   ]
  },
  {
   "cell_type": "code",
   "execution_count": null,
   "id": "913dfaa0-0785-47e1-a29f-724a27b6da4c",
   "metadata": {},
   "outputs": [],
   "source": []
  }
 ],
 "metadata": {
  "kernelspec": {
   "display_name": "Python 3",
   "language": "python",
   "name": "python3"
  },
  "language_info": {
   "codemirror_mode": {
    "name": "ipython",
    "version": 3
   },
   "file_extension": ".py",
   "mimetype": "text/x-python",
   "name": "python",
   "nbconvert_exporter": "python",
   "pygments_lexer": "ipython3",
   "version": "3.8.8"
  }
 },
 "nbformat": 4,
 "nbformat_minor": 5
}
