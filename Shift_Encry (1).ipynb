{
 "cells": [
  {
   "cell_type": "code",
   "execution_count": 6,
   "id": "through-geography",
   "metadata": {},
   "outputs": [
    {
     "name": "stdout",
     "output_type": "stream",
     "text": [
      "0\n",
      "1\n",
      "2\n",
      "3\n",
      "4\n",
      "5\n"
     ]
    }
   ],
   "source": [
    "i=0\n",
    "while i<6:\n",
    "    print(i)\n",
    "    i=i+1"
   ]
  },
  {
   "cell_type": "code",
   "execution_count": 18,
   "id": "optimum-sweden",
   "metadata": {},
   "outputs": [
    {
     "name": "stdout",
     "output_type": "stream",
     "text": [
      "25\n"
     ]
    }
   ],
   "source": [
    "print(ord(\"z\")-97)"
   ]
  },
  {
   "cell_type": "code",
   "execution_count": 9,
   "id": "bored-submission",
   "metadata": {},
   "outputs": [],
   "source": [
    "i=3"
   ]
  },
  {
   "cell_type": "code",
   "execution_count": 8,
   "id": "demanding-profit",
   "metadata": {},
   "outputs": [],
   "source": [
    "def encrypt(letter,key):\n",
    "    if not letter.isalpha() or len(letter)!=1:\n",
    "        return letter\n",
    "    \n",
    "    #convert to lowercase\n",
    "    letter=letter.lower()\n",
    "    \n",
    "    #convert to numerical value 0-25\n",
    "    #a=0,b=1,....z=25\n",
    "    \n",
    "    letter=ord(letter)-97\n",
    "    \n",
    "    value=(letter+key)%26\n",
    "    return chr(value+97)\n",
    "    "
   ]
  },
  {
   "cell_type": "code",
   "execution_count": 25,
   "id": "passing-theta",
   "metadata": {},
   "outputs": [
    {
     "name": "stdout",
     "output_type": "stream",
     "text": [
      "g\n",
      "s\n",
      "s\n",
      "p\n"
     ]
    }
   ],
   "source": [
    "print(encrypt(\"c\",4))\n",
    "print(encrypt(\"o\",4))\n",
    "print(encrypt(\"o\",4))\n",
    "print(encrypt(\"l\",4))\n"
   ]
  },
  {
   "cell_type": "code",
   "execution_count": 3,
   "id": "numerous-template",
   "metadata": {},
   "outputs": [],
   "source": [
    "def decrypt(letter,key):\n",
    "    if not letter.isalpha() or len(letter)!=1:\n",
    "        return letter\n",
    "    letter=letter.lower()\n",
    "    \n",
    "    value=ord(letter)-97\n",
    "    \n",
    "    value=(value-key)%26\n",
    "    return chr(value+97)"
   ]
  },
  {
   "cell_type": "code",
   "execution_count": 5,
   "id": "91663430-2c10-4b19-8303-cdaad245f832",
   "metadata": {},
   "outputs": [
    {
     "name": "stdout",
     "output_type": "stream",
     "text": [
      "c\n",
      "o\n",
      "o\n",
      "l\n"
     ]
    }
   ],
   "source": [
    "print(decrypt(\"g\",4))\n",
    "print(decrypt(\"s\",4))\n",
    "print(decrypt(\"s\",4))\n",
    "print(decrypt(\"p\",4))"
   ]
  },
  {
   "cell_type": "code",
   "execution_count": 9,
   "id": "865ab8ae-946e-47dc-b735-f2c326b94af0",
   "metadata": {},
   "outputs": [
    {
     "name": "stdin",
     "output_type": "stream",
     "text": [
      "Enter a phrase to encrypt with this awesome scheme! PSisAwesome\n",
      "what is your key 5\n"
     ]
    },
    {
     "name": "stdout",
     "output_type": "stream",
     "text": [
      "uxnxfbjxtrj\n"
     ]
    }
   ],
   "source": [
    "plaintext=input('Enter a phrase to encrypt with this awesome scheme!')\n",
    "key=int(input('what is your key'))\n",
    "ciphertext=''\n",
    "for letter in plaintext:\n",
    "    ciphertext+=encrypt(letter,key)\n",
    "print(ciphertext)"
   ]
  },
  {
   "cell_type": "code",
   "execution_count": 12,
   "id": "f820e1c1-d7d7-47bb-96ee-3789375a645a",
   "metadata": {},
   "outputs": [
    {
     "name": "stdin",
     "output_type": "stream",
     "text": [
      "What is your decryption key 5\n"
     ]
    },
    {
     "name": "stdout",
     "output_type": "stream",
     "text": [
      "psisawesome\n"
     ]
    }
   ],
   "source": [
    "plaintext2=''\n",
    "dkey=int(input('What is your decryption key'))\n",
    "for letter in ciphertext:\n",
    "    plaintext2+=decrypt(letter,dkey)\n",
    "print(plaintext2)"
   ]
  },
  {
   "cell_type": "code",
   "execution_count": 127,
   "id": "579ace6c-0ed5-40da-b050-d05a2a9e9ae7",
   "metadata": {},
   "outputs": [],
   "source": [
    "def encryptm(letter,sekey,ae):\n",
    "    if not letter.isalpha() or len(letter)!=1:\n",
    "        return letter\n",
    "    \n",
    "    #convert to lowercase\n",
    "    letter=letter.lower()\n",
    "    \n",
    "    #convert to numerical value 0-25\n",
    "    #a=0,b=1,....z=25\n",
    "    \n",
    "    letter=ord(letter)-97\n",
    "    letter=letter*ae\n",
    "    value=(letter+sekey)%26\n",
    "    return chr(value+97)\n",
    "    "
   ]
  },
  {
   "cell_type": "code",
   "execution_count": 130,
   "id": "6104d523-3ad0-4d6a-9629-154c608686d7",
   "metadata": {},
   "outputs": [],
   "source": [
    "def decryptm(letter,sdkey,ad):\n",
    "    if not letter.isalpha() or len(letter)!=1:\n",
    "        return letter\n",
    "    letter=letter.lower()\n",
    "    \n",
    "    value=ord(letter)-97\n",
    "    \n",
    "    inv=pow(ad,-1,26)\n",
    "    \n",
    "    \n",
    "    value=inv*(value-sdkey)%26\n",
    "\n",
    "    \n",
    "    return chr(value+97)"
   ]
  },
  {
   "cell_type": "code",
   "execution_count": 133,
   "id": "c51ca390-b3e5-41cd-ba1e-d683beb7fe43",
   "metadata": {},
   "outputs": [
    {
     "data": {
      "text/plain": [
       "'o'"
      ]
     },
     "execution_count": 133,
     "metadata": {},
     "output_type": "execute_result"
    }
   ],
   "source": [
    "encryptm('v',3,3)"
   ]
  },
  {
   "cell_type": "code",
   "execution_count": 134,
   "id": "6cbebe2d-076a-45b1-935a-7eafa04fba5f",
   "metadata": {},
   "outputs": [
    {
     "data": {
      "text/plain": [
       "'v'"
      ]
     },
     "execution_count": 134,
     "metadata": {},
     "output_type": "execute_result"
    }
   ],
   "source": [
    "decryptm('o',3,3)"
   ]
  },
  {
   "cell_type": "code",
   "execution_count": null,
   "id": "66fbe9da-9daf-472a-8997-db89da06856d",
   "metadata": {},
   "outputs": [],
   "source": []
  }
 ],
 "metadata": {
  "kernelspec": {
   "display_name": "Python 3",
   "language": "python",
   "name": "python3"
  },
  "language_info": {
   "codemirror_mode": {
    "name": "ipython",
    "version": 3
   },
   "file_extension": ".py",
   "mimetype": "text/x-python",
   "name": "python",
   "nbconvert_exporter": "python",
   "pygments_lexer": "ipython3",
   "version": "3.8.8"
  }
 },
 "nbformat": 4,
 "nbformat_minor": 5
}
